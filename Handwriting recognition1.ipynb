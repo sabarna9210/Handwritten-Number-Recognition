{
 "cells": [
  {
   "cell_type": "code",
   "execution_count": 2,
   "id": "4ae471c5",
   "metadata": {},
   "outputs": [
    {
     "name": "stdout",
     "output_type": "stream",
     "text": [
      "saved...... 0\n",
      "clear screen now and redraw now........\n",
      "saved...... 1\n",
      "clear screen now and redraw now........\n",
      "saved...... 2\n",
      "clear screen now and redraw now........\n",
      "saved...... 3\n",
      "clear screen now and redraw now........\n",
      "saved...... 4\n",
      "clear screen now and redraw now........\n",
      "saved...... 5\n",
      "clear screen now and redraw now........\n",
      "saved...... 6\n",
      "clear screen now and redraw now........\n",
      "saved...... 7\n",
      "clear screen now and redraw now........\n",
      "saved...... 8\n",
      "clear screen now and redraw now........\n",
      "saved...... 9\n",
      "clear screen now and redraw now........\n",
      "saved...... 10\n",
      "clear screen now and redraw now........\n",
      "saved...... 11\n",
      "clear screen now and redraw now........\n",
      "saved...... 12\n",
      "clear screen now and redraw now........\n",
      "saved...... 13\n",
      "clear screen now and redraw now........\n",
      "saved...... 14\n",
      "clear screen now and redraw now........\n",
      "saved...... 15\n",
      "clear screen now and redraw now........\n",
      "saved...... 16\n",
      "clear screen now and redraw now........\n",
      "saved...... 17\n",
      "clear screen now and redraw now........\n",
      "saved...... 18\n",
      "clear screen now and redraw now........\n",
      "saved...... 19\n",
      "clear screen now and redraw now........\n"
     ]
    }
   ],
   "source": [
    "import pyscreenshot as ImageGrab\n",
    "import time\n",
    "images_folder=\"dataset/1/\"\n",
    "  \n",
    "for i in range(0,20):\n",
    "   time.sleep(8)\n",
    "   im=ImageGrab.grab(bbox=(60,170,400,550)) #x1,y1,x2,y2\n",
    "   print(\"saved......\",i)\n",
    "   im.save(images_folder+str(i)+'.png')\n",
    "   print(\"clear screen now and redraw now........\")"
   ]
  },
  {
   "cell_type": "code",
   "execution_count": 3,
   "id": "a46722fb",
   "metadata": {},
   "outputs": [
    {
     "name": "stdout",
     "output_type": "stream",
     "text": [
      "saved...... 0\n",
      "clear screen now and redraw now........\n",
      "saved...... 1\n",
      "clear screen now and redraw now........\n",
      "saved...... 2\n",
      "clear screen now and redraw now........\n",
      "saved...... 3\n",
      "clear screen now and redraw now........\n",
      "saved...... 4\n",
      "clear screen now and redraw now........\n",
      "saved...... 5\n",
      "clear screen now and redraw now........\n",
      "saved...... 6\n",
      "clear screen now and redraw now........\n",
      "saved...... 7\n",
      "clear screen now and redraw now........\n",
      "saved...... 8\n",
      "clear screen now and redraw now........\n",
      "saved...... 9\n",
      "clear screen now and redraw now........\n",
      "saved...... 10\n",
      "clear screen now and redraw now........\n",
      "saved...... 11\n",
      "clear screen now and redraw now........\n",
      "saved...... 12\n",
      "clear screen now and redraw now........\n",
      "saved...... 13\n",
      "clear screen now and redraw now........\n",
      "saved...... 14\n",
      "clear screen now and redraw now........\n",
      "saved...... 15\n",
      "clear screen now and redraw now........\n",
      "saved...... 16\n",
      "clear screen now and redraw now........\n",
      "saved...... 17\n",
      "clear screen now and redraw now........\n",
      "saved...... 18\n",
      "clear screen now and redraw now........\n",
      "saved...... 19\n",
      "clear screen now and redraw now........\n"
     ]
    }
   ],
   "source": [
    "import pyscreenshot as ImageGrab\n",
    "import time\n",
    "images_folder=\"dataset/2/\"\n",
    "  \n",
    "for i in range(0,20):\n",
    "   time.sleep(5)\n",
    "   im=ImageGrab.grab(bbox=(60,170,400,550)) #x1,y1,x2,y2\n",
    "   print(\"saved......\",i)\n",
    "   im.save(images_folder+str(i)+'.png')\n",
    "   print(\"clear screen now and redraw now........\")"
   ]
  },
  {
   "cell_type": "code",
   "execution_count": 4,
   "id": "3b982322",
   "metadata": {},
   "outputs": [
    {
     "name": "stdout",
     "output_type": "stream",
     "text": [
      "saved...... 0\n",
      "clear screen now and redraw now........\n",
      "saved...... 1\n",
      "clear screen now and redraw now........\n",
      "saved...... 2\n",
      "clear screen now and redraw now........\n",
      "saved...... 3\n",
      "clear screen now and redraw now........\n",
      "saved...... 4\n",
      "clear screen now and redraw now........\n",
      "saved...... 5\n",
      "clear screen now and redraw now........\n",
      "saved...... 6\n",
      "clear screen now and redraw now........\n",
      "saved...... 7\n",
      "clear screen now and redraw now........\n",
      "saved...... 8\n",
      "clear screen now and redraw now........\n",
      "saved...... 9\n",
      "clear screen now and redraw now........\n",
      "saved...... 10\n",
      "clear screen now and redraw now........\n",
      "saved...... 11\n",
      "clear screen now and redraw now........\n",
      "saved...... 12\n",
      "clear screen now and redraw now........\n",
      "saved...... 13\n",
      "clear screen now and redraw now........\n",
      "saved...... 14\n",
      "clear screen now and redraw now........\n",
      "saved...... 15\n",
      "clear screen now and redraw now........\n",
      "saved...... 16\n",
      "clear screen now and redraw now........\n",
      "saved...... 17\n",
      "clear screen now and redraw now........\n",
      "saved...... 18\n",
      "clear screen now and redraw now........\n",
      "saved...... 19\n",
      "clear screen now and redraw now........\n"
     ]
    }
   ],
   "source": [
    "import pyscreenshot as ImageGrab\n",
    "import time\n",
    "images_folder=\"dataset/3/\"\n",
    "  \n",
    "for i in range(0,20):\n",
    "   time.sleep(5)\n",
    "   im=ImageGrab.grab(bbox=(60,170,400,550)) #x1,y1,x2,y2\n",
    "   print(\"saved......\",i)\n",
    "   im.save(images_folder+str(i)+'.png')\n",
    "   print(\"clear screen now and redraw now........\")"
   ]
  },
  {
   "cell_type": "code",
   "execution_count": 5,
   "id": "f049dddd",
   "metadata": {},
   "outputs": [
    {
     "name": "stdout",
     "output_type": "stream",
     "text": [
      "saved...... 0\n",
      "clear screen now and redraw now........\n",
      "saved...... 1\n",
      "clear screen now and redraw now........\n",
      "saved...... 2\n",
      "clear screen now and redraw now........\n",
      "saved...... 3\n",
      "clear screen now and redraw now........\n",
      "saved...... 4\n",
      "clear screen now and redraw now........\n",
      "saved...... 5\n",
      "clear screen now and redraw now........\n",
      "saved...... 6\n",
      "clear screen now and redraw now........\n",
      "saved...... 7\n",
      "clear screen now and redraw now........\n",
      "saved...... 8\n",
      "clear screen now and redraw now........\n",
      "saved...... 9\n",
      "clear screen now and redraw now........\n",
      "saved...... 10\n",
      "clear screen now and redraw now........\n",
      "saved...... 11\n",
      "clear screen now and redraw now........\n",
      "saved...... 12\n",
      "clear screen now and redraw now........\n",
      "saved...... 13\n",
      "clear screen now and redraw now........\n",
      "saved...... 14\n",
      "clear screen now and redraw now........\n",
      "saved...... 15\n",
      "clear screen now and redraw now........\n",
      "saved...... 16\n",
      "clear screen now and redraw now........\n",
      "saved...... 17\n",
      "clear screen now and redraw now........\n",
      "saved...... 18\n",
      "clear screen now and redraw now........\n",
      "saved...... 19\n",
      "clear screen now and redraw now........\n"
     ]
    }
   ],
   "source": [
    "import pyscreenshot as ImageGrab\n",
    "import time\n",
    "images_folder=\"dataset/4/\"\n",
    "  \n",
    "for i in range(0,20):\n",
    "   time.sleep(5)\n",
    "   im=ImageGrab.grab(bbox=(60,170,400,550)) #x1,y1,x2,y2\n",
    "   print(\"saved......\",i)\n",
    "   im.save(images_folder+str(i)+'.png')\n",
    "   print(\"clear screen now and redraw now........\")"
   ]
  },
  {
   "cell_type": "code",
   "execution_count": 6,
   "id": "b2d2a562",
   "metadata": {},
   "outputs": [
    {
     "name": "stdout",
     "output_type": "stream",
     "text": [
      "saved...... 0\n",
      "clear screen now and redraw now........\n",
      "saved...... 1\n",
      "clear screen now and redraw now........\n",
      "saved...... 2\n",
      "clear screen now and redraw now........\n",
      "saved...... 3\n",
      "clear screen now and redraw now........\n",
      "saved...... 4\n",
      "clear screen now and redraw now........\n",
      "saved...... 5\n",
      "clear screen now and redraw now........\n",
      "saved...... 6\n",
      "clear screen now and redraw now........\n",
      "saved...... 7\n",
      "clear screen now and redraw now........\n",
      "saved...... 8\n",
      "clear screen now and redraw now........\n",
      "saved...... 9\n",
      "clear screen now and redraw now........\n",
      "saved...... 10\n",
      "clear screen now and redraw now........\n",
      "saved...... 11\n",
      "clear screen now and redraw now........\n",
      "saved...... 12\n",
      "clear screen now and redraw now........\n",
      "saved...... 13\n",
      "clear screen now and redraw now........\n",
      "saved...... 14\n",
      "clear screen now and redraw now........\n",
      "saved...... 15\n",
      "clear screen now and redraw now........\n",
      "saved...... 16\n",
      "clear screen now and redraw now........\n",
      "saved...... 17\n",
      "clear screen now and redraw now........\n",
      "saved...... 18\n",
      "clear screen now and redraw now........\n",
      "saved...... 19\n",
      "clear screen now and redraw now........\n"
     ]
    }
   ],
   "source": [
    "import pyscreenshot as ImageGrab\n",
    "import time\n",
    "images_folder=\"dataset/5/\"\n",
    "  \n",
    "for i in range(0,20):\n",
    "   time.sleep(5)\n",
    "   im=ImageGrab.grab(bbox=(60,170,400,550)) #x1,y1,x2,y2\n",
    "   print(\"saved......\",i)\n",
    "   im.save(images_folder+str(i)+'.png')\n",
    "   print(\"clear screen now and redraw now........\")"
   ]
  },
  {
   "cell_type": "code",
   "execution_count": 7,
   "id": "0a769fca",
   "metadata": {},
   "outputs": [
    {
     "name": "stdout",
     "output_type": "stream",
     "text": [
      "saved...... 0\n",
      "clear screen now and redraw now........\n",
      "saved...... 1\n",
      "clear screen now and redraw now........\n",
      "saved...... 2\n",
      "clear screen now and redraw now........\n",
      "saved...... 3\n",
      "clear screen now and redraw now........\n",
      "saved...... 4\n",
      "clear screen now and redraw now........\n",
      "saved...... 5\n",
      "clear screen now and redraw now........\n",
      "saved...... 6\n",
      "clear screen now and redraw now........\n",
      "saved...... 7\n",
      "clear screen now and redraw now........\n",
      "saved...... 8\n",
      "clear screen now and redraw now........\n",
      "saved...... 9\n",
      "clear screen now and redraw now........\n",
      "saved...... 10\n",
      "clear screen now and redraw now........\n",
      "saved...... 11\n",
      "clear screen now and redraw now........\n",
      "saved...... 12\n",
      "clear screen now and redraw now........\n",
      "saved...... 13\n",
      "clear screen now and redraw now........\n",
      "saved...... 14\n",
      "clear screen now and redraw now........\n",
      "saved...... 15\n",
      "clear screen now and redraw now........\n",
      "saved...... 16\n",
      "clear screen now and redraw now........\n",
      "saved...... 17\n",
      "clear screen now and redraw now........\n",
      "saved...... 18\n",
      "clear screen now and redraw now........\n",
      "saved...... 19\n",
      "clear screen now and redraw now........\n"
     ]
    }
   ],
   "source": [
    "import pyscreenshot as ImageGrab\n",
    "import time\n",
    "images_folder=\"dataset/6/\"\n",
    "  \n",
    "for i in range(0,20):\n",
    "   time.sleep(5)\n",
    "   im=ImageGrab.grab(bbox=(60,170,400,550)) #x1,y1,x2,y2\n",
    "   print(\"saved......\",i)\n",
    "   im.save(images_folder+str(i)+'.png')\n",
    "   print(\"clear screen now and redraw now........\")"
   ]
  },
  {
   "cell_type": "code",
   "execution_count": 8,
   "id": "1e648564",
   "metadata": {},
   "outputs": [
    {
     "name": "stdout",
     "output_type": "stream",
     "text": [
      "saved...... 0\n",
      "clear screen now and redraw now........\n",
      "saved...... 1\n",
      "clear screen now and redraw now........\n",
      "saved...... 2\n",
      "clear screen now and redraw now........\n",
      "saved...... 3\n",
      "clear screen now and redraw now........\n",
      "saved...... 4\n",
      "clear screen now and redraw now........\n",
      "saved...... 5\n",
      "clear screen now and redraw now........\n",
      "saved...... 6\n",
      "clear screen now and redraw now........\n",
      "saved...... 7\n",
      "clear screen now and redraw now........\n",
      "saved...... 8\n",
      "clear screen now and redraw now........\n",
      "saved...... 9\n",
      "clear screen now and redraw now........\n",
      "saved...... 10\n",
      "clear screen now and redraw now........\n",
      "saved...... 11\n",
      "clear screen now and redraw now........\n",
      "saved...... 12\n",
      "clear screen now and redraw now........\n",
      "saved...... 13\n",
      "clear screen now and redraw now........\n",
      "saved...... 14\n",
      "clear screen now and redraw now........\n",
      "saved...... 15\n",
      "clear screen now and redraw now........\n",
      "saved...... 16\n",
      "clear screen now and redraw now........\n",
      "saved...... 17\n",
      "clear screen now and redraw now........\n",
      "saved...... 18\n",
      "clear screen now and redraw now........\n",
      "saved...... 19\n",
      "clear screen now and redraw now........\n"
     ]
    }
   ],
   "source": [
    "import pyscreenshot as ImageGrab\n",
    "import time\n",
    "images_folder=\"dataset/7/\"\n",
    "  \n",
    "for i in range(0,20):\n",
    "   time.sleep(5)\n",
    "   im=ImageGrab.grab(bbox=(60,170,400,550)) #x1,y1,x2,y2\n",
    "   print(\"saved......\",i)\n",
    "   im.save(images_folder+str(i)+'.png')\n",
    "   print(\"clear screen now and redraw now........\")"
   ]
  },
  {
   "cell_type": "code",
   "execution_count": 9,
   "id": "66832d06",
   "metadata": {},
   "outputs": [
    {
     "name": "stdout",
     "output_type": "stream",
     "text": [
      "saved...... 0\n",
      "clear screen now and redraw now........\n",
      "saved...... 1\n",
      "clear screen now and redraw now........\n",
      "saved...... 2\n",
      "clear screen now and redraw now........\n",
      "saved...... 3\n",
      "clear screen now and redraw now........\n",
      "saved...... 4\n",
      "clear screen now and redraw now........\n",
      "saved...... 5\n",
      "clear screen now and redraw now........\n",
      "saved...... 6\n",
      "clear screen now and redraw now........\n",
      "saved...... 7\n",
      "clear screen now and redraw now........\n",
      "saved...... 8\n",
      "clear screen now and redraw now........\n",
      "saved...... 9\n",
      "clear screen now and redraw now........\n",
      "saved...... 10\n",
      "clear screen now and redraw now........\n",
      "saved...... 11\n",
      "clear screen now and redraw now........\n",
      "saved...... 12\n",
      "clear screen now and redraw now........\n",
      "saved...... 13\n",
      "clear screen now and redraw now........\n",
      "saved...... 14\n",
      "clear screen now and redraw now........\n",
      "saved...... 15\n",
      "clear screen now and redraw now........\n",
      "saved...... 16\n",
      "clear screen now and redraw now........\n",
      "saved...... 17\n",
      "clear screen now and redraw now........\n",
      "saved...... 18\n",
      "clear screen now and redraw now........\n",
      "saved...... 19\n",
      "clear screen now and redraw now........\n"
     ]
    }
   ],
   "source": [
    "import pyscreenshot as ImageGrab\n",
    "import time\n",
    "images_folder=\"dataset/8/\"\n",
    "  \n",
    "for i in range(0,20):\n",
    "   time.sleep(5)\n",
    "   im=ImageGrab.grab(bbox=(60,170,400,550)) #x1,y1,x2,y2\n",
    "   print(\"saved......\",i)\n",
    "   im.save(images_folder+str(i)+'.png')\n",
    "   print(\"clear screen now and redraw now........\")"
   ]
  },
  {
   "cell_type": "code",
   "execution_count": 10,
   "id": "dc275e2f",
   "metadata": {},
   "outputs": [
    {
     "name": "stdout",
     "output_type": "stream",
     "text": [
      "saved...... 0\n",
      "clear screen now and redraw now........\n",
      "saved...... 1\n",
      "clear screen now and redraw now........\n",
      "saved...... 2\n",
      "clear screen now and redraw now........\n",
      "saved...... 3\n",
      "clear screen now and redraw now........\n",
      "saved...... 4\n",
      "clear screen now and redraw now........\n",
      "saved...... 5\n",
      "clear screen now and redraw now........\n",
      "saved...... 6\n",
      "clear screen now and redraw now........\n",
      "saved...... 7\n",
      "clear screen now and redraw now........\n",
      "saved...... 8\n",
      "clear screen now and redraw now........\n",
      "saved...... 9\n",
      "clear screen now and redraw now........\n",
      "saved...... 10\n",
      "clear screen now and redraw now........\n",
      "saved...... 11\n",
      "clear screen now and redraw now........\n",
      "saved...... 12\n",
      "clear screen now and redraw now........\n",
      "saved...... 13\n",
      "clear screen now and redraw now........\n",
      "saved...... 14\n",
      "clear screen now and redraw now........\n",
      "saved...... 15\n",
      "clear screen now and redraw now........\n",
      "saved...... 16\n",
      "clear screen now and redraw now........\n",
      "saved...... 17\n",
      "clear screen now and redraw now........\n",
      "saved...... 18\n",
      "clear screen now and redraw now........\n",
      "saved...... 19\n",
      "clear screen now and redraw now........\n"
     ]
    }
   ],
   "source": [
    "import pyscreenshot as ImageGrab\n",
    "import time\n",
    "images_folder=\"dataset/9/\"\n",
    "  \n",
    "for i in range(0,20):\n",
    "   time.sleep(5)\n",
    "   im=ImageGrab.grab(bbox=(60,170,400,550)) #x1,y1,x2,y2\n",
    "   print(\"saved......\",i)\n",
    "   im.save(images_folder+str(i)+'.png')\n",
    "   print(\"clear screen now and redraw now........\")"
   ]
  },
  {
   "cell_type": "code",
   "execution_count": 14,
   "id": "64d6b932",
   "metadata": {},
   "outputs": [],
   "source": [
    "#Generate dataset\n",
    "import cv2\n",
    "import csv\n",
    "import glob\n",
    "  \n",
    "header  =[\"label\"]\n",
    "for i in range(0,784):\n",
    "   header.append(\"pixel\"+str(i))\n",
    "with open('dataset.csv', 'a') as f:\n",
    "   writer = csv.writer(f)\n",
    "   writer.writerow(header)\n",
    "    \n",
    "for label in range(10):\n",
    "   dirList = glob.glob(\"dataset1/\"+str(label)+\"/*.png\")\n",
    "    \n",
    "   for img_path in dirList:\n",
    "       im= cv2.imread(img_path)\n",
    "       im_gray = cv2.cvtColor(im,cv2.COLOR_BGR2GRAY)\n",
    "       im_gray = cv2.GaussianBlur(im_gray,(15,15), 0)\n",
    "       roi= cv2.resize(im_gray,(28,28), interpolation=cv2.INTER_AREA)\n",
    "        \n",
    "       data=[]\n",
    "       data.append(label)\n",
    "       rows, cols = roi.shape\n",
    "        \n",
    "       ## Fill the data array with pixels one by one.\n",
    "       for i in range(rows):\n",
    "           for j in range(cols):\n",
    "               k =roi[i,j]\n",
    "               if k>100:\n",
    "                   k=1\n",
    "               else:\n",
    "                   k=0\n",
    "               data.append(k)\n",
    "       with open('dataset.csv', 'a') as f:\n",
    "           writer = csv.writer(f)\n",
    "           writer.writerow(data)"
   ]
  },
  {
   "cell_type": "code",
   "execution_count": 15,
   "id": "c8c80bda",
   "metadata": {},
   "outputs": [
    {
     "name": "stdout",
     "output_type": "stream",
     "text": [
      "     label  pixel0  pixel1  pixel2  pixel3  pixel4  pixel5  pixel6  pixel7  \\\n",
      "45       2       0       0       0       0       0       0       0       0   \n",
      "16       0       0       0       0       0       0       0       0       0   \n",
      "29       1       0       0       0       0       0       0       0       0   \n",
      "166      8       0       0       0       0       0       0       0       0   \n",
      "95       4       0       0       0       0       0       0       0       0   \n",
      "..     ...     ...     ...     ...     ...     ...     ...     ...     ...   \n",
      "20       1       0       0       0       0       0       0       0       0   \n",
      "7        0       0       0       0       0       0       0       0       0   \n",
      "196      9       0       0       0       0       0       0       0       0   \n",
      "187      9       0       0       0       0       0       0       0       0   \n",
      "96       4       0       0       0       0       0       0       0       0   \n",
      "\n",
      "     pixel8  ...  pixel774  pixel775  pixel776  pixel777  pixel778  pixel779  \\\n",
      "45        0  ...         0         0         0         0         0         0   \n",
      "16        0  ...         0         0         0         0         0         0   \n",
      "29        0  ...         0         0         0         0         0         0   \n",
      "166       0  ...         0         0         0         0         0         0   \n",
      "95        0  ...         0         0         0         0         0         0   \n",
      "..      ...  ...       ...       ...       ...       ...       ...       ...   \n",
      "20        0  ...         0         0         0         0         0         0   \n",
      "7         0  ...         0         0         0         0         0         0   \n",
      "196       0  ...         0         0         0         0         0         0   \n",
      "187       0  ...         0         0         0         0         0         0   \n",
      "96        0  ...         0         0         0         0         0         0   \n",
      "\n",
      "     pixel780  pixel781  pixel782  pixel783  \n",
      "45          0         0         0         0  \n",
      "16          0         0         0         0  \n",
      "29          0         0         0         0  \n",
      "166         0         0         0         0  \n",
      "95          0         0         0         0  \n",
      "..        ...       ...       ...       ...  \n",
      "20          0         0         0         0  \n",
      "7           0         0         0         0  \n",
      "196         0         0         0         0  \n",
      "187         0         0         0         0  \n",
      "96          0         0         0         0  \n",
      "\n",
      "[200 rows x 785 columns]\n"
     ]
    }
   ],
   "source": [
    "import pandas as pd #pip install pandas\n",
    "from sklearn.utils import shuffle #pip install scikit-learn\n",
    "#0,....,1.....,2.....\n",
    "#5,3,1,0,2,5,.......\n",
    " \n",
    "data = pd.read_csv('dataset.csv')\n",
    "data = shuffle(data)\n",
    "print(data)"
   ]
  },
  {
   "cell_type": "code",
   "execution_count": 17,
   "id": "db4c8c97",
   "metadata": {},
   "outputs": [],
   "source": [
    "X = data.drop([\"label\"],axis=1)\n",
    "Y= data[\"label\"]"
   ]
  },
  {
   "cell_type": "code",
   "execution_count": 22,
   "id": "4ec45820",
   "metadata": {},
   "outputs": [
    {
     "name": "stdout",
     "output_type": "stream",
     "text": [
      "2\n"
     ]
    },
    {
     "data": {
      "text/plain": [
       "<matplotlib.image.AxesImage at 0x2b49cc48890>"
      ]
     },
     "execution_count": 22,
     "metadata": {},
     "output_type": "execute_result"
    },
    {
     "data": {
      "image/png": "[encoded data removed]",
      "text/plain": [
       "<Figure size 640x480 with 1 Axes>"
      ]
     },
     "metadata": {},
     "output_type": "display_data"
    }
   ],
   "source": [
    "%matplotlib inline\n",
    "import matplotlib.pyplot as plt\n",
    "import cv2\n",
    "idx = 56\n",
    "img = X.loc[idx].values.reshape(28,28)\n",
    "print(Y[idx])\n",
    "plt.imshow(img)"
   ]
  },
  {
   "cell_type": "code",
   "execution_count": 23,
   "id": "e83ec4d0",
   "metadata": {},
   "outputs": [],
   "source": [
    "from sklearn.model_selection import train_test_split\n",
    "train_x,test_x,train_y,test_y = train_test_split(X,Y, test_size = 0.2)"
   ]
  },
  {
   "cell_type": "code",
   "execution_count": 25,
   "id": "67482d75",
   "metadata": {},
   "outputs": [
    {
     "data": {
      "text/plain": [
       "['model/digit_recognizer']"
      ]
     },
     "execution_count": 25,
     "metadata": {},
     "output_type": "execute_result"
    }
   ],
   "source": [
    "import joblib\n",
    "from sklearn.svm import SVC\n",
    "classifier=SVC(kernel=\"linear\", random_state=6)\n",
    "classifier.fit(train_x,train_y)\n",
    "joblib.dump(classifier, \"model/digit_recognizer\")"
   ]
  },
  {
   "cell_type": "code",
   "execution_count": 26,
   "id": "7d5308b2",
   "metadata": {},
   "outputs": [
    {
     "name": "stdout",
     "output_type": "stream",
     "text": [
      "Accuracy=  0.7\n"
     ]
    }
   ],
   "source": [
    "from sklearn import metrics\n",
    "prediction=classifier.predict(test_x)\n",
    "print(\"Accuracy= \",metrics.accuracy_score(prediction, test_y))"
   ]
  },
  {
   "cell_type": "code",
   "execution_count": 27,
   "id": "8f92777a",
   "metadata": {},
   "outputs": [
    {
     "ename": "FileNotFoundError",
     "evalue": "[Errno 2] No such file or directory: 'dataset/9/img.png'",
     "output_type": "error",
     "traceback": [
      "\u001b[1;31m---------------------------------------------------------------------------\u001b[0m",
      "\u001b[1;31mFileNotFoundError\u001b[0m                         Traceback (most recent call last)",
      "Cell \u001b[1;32mIn[27], line 15\u001b[0m\n\u001b[0;32m     12\u001b[0m \u001b[38;5;28;01mwhile\u001b[39;00m \u001b[38;5;28;01mTrue\u001b[39;00m:\n\u001b[0;32m     13\u001b[0m    img\u001b[38;5;241m=\u001b[39mImageGrab\u001b[38;5;241m.\u001b[39mgrab(bbox\u001b[38;5;241m=\u001b[39m(\u001b[38;5;241m60\u001b[39m,\u001b[38;5;241m170\u001b[39m,\u001b[38;5;241m400\u001b[39m,\u001b[38;5;241m500\u001b[39m))\n\u001b[1;32m---> 15\u001b[0m    img\u001b[38;5;241m.\u001b[39msave(images_folder\u001b[38;5;241m+\u001b[39m\u001b[38;5;124m\"\u001b[39m\u001b[38;5;124mimg.png\u001b[39m\u001b[38;5;124m\"\u001b[39m)\n\u001b[0;32m     16\u001b[0m    im \u001b[38;5;241m=\u001b[39m cv2\u001b[38;5;241m.\u001b[39mimread(images_folder\u001b[38;5;241m+\u001b[39m\u001b[38;5;124m\"\u001b[39m\u001b[38;5;124mimg.png\u001b[39m\u001b[38;5;124m\"\u001b[39m)\n\u001b[0;32m     17\u001b[0m    im_gray \u001b[38;5;241m=\u001b[39m cv2\u001b[38;5;241m.\u001b[39mcvtColor(im,cv2\u001b[38;5;241m.\u001b[39mCOLOR_BGR2GRAY)\n",
      "File \u001b[1;32m~\\anaconda3\\Lib\\site-packages\\PIL\\Image.py:2428\u001b[0m, in \u001b[0;36mImage.save\u001b[1;34m(self, fp, format, **params)\u001b[0m\n\u001b[0;32m   2426\u001b[0m         fp \u001b[38;5;241m=\u001b[39m builtins\u001b[38;5;241m.\u001b[39mopen(filename, \u001b[38;5;124m\"\u001b[39m\u001b[38;5;124mr+b\u001b[39m\u001b[38;5;124m\"\u001b[39m)\n\u001b[0;32m   2427\u001b[0m     \u001b[38;5;28;01melse\u001b[39;00m:\n\u001b[1;32m-> 2428\u001b[0m         fp \u001b[38;5;241m=\u001b[39m builtins\u001b[38;5;241m.\u001b[39mopen(filename, \u001b[38;5;124m\"\u001b[39m\u001b[38;5;124mw+b\u001b[39m\u001b[38;5;124m\"\u001b[39m)\n\u001b[0;32m   2430\u001b[0m \u001b[38;5;28;01mtry\u001b[39;00m:\n\u001b[0;32m   2431\u001b[0m     save_handler(\u001b[38;5;28mself\u001b[39m, fp, filename)\n",
      "\u001b[1;31mFileNotFoundError\u001b[0m: [Errno 2] No such file or directory: 'dataset/9/img.png'"
     ]
    }
   ],
   "source": [
    "#prediction of image drawn in paint\n",
    "  \n",
    "import joblib\n",
    "import cv2\n",
    "import numpy as np #pip install numpy\n",
    "import time\n",
    "import pyscreenshot as ImageGrab\n",
    "  \n",
    "model=joblib.load(\"model/digit_recognizer\")\n",
    "image_folder=\"img/\"\n",
    "  \n",
    "while True:\n",
    "   img=ImageGrab.grab(bbox=(60,170,400,500))\n",
    "    \n",
    "   img.save(images_folder+\"img.png\")\n",
    "   im = cv2.imread(images_folder+\"img.png\")\n",
    "   im_gray = cv2.cvtColor(im,cv2.COLOR_BGR2GRAY)\n",
    "   im_gray  =cv2.GaussianBlur(im_gray, (15,15), 0)\n",
    "    \n",
    "   #Threshold the image\n",
    "   ret, im_th = cv2.threshold(im_gray,100, 255, cv2.THRESH_BINARY)\n",
    "   roi = cv2.resize(im_th, (28,28), interpolation  =cv2.INTER_AREA)\n",
    "    \n",
    "   rows,cols=roi.shape\n",
    "    \n",
    "   X = []\n",
    "    \n",
    "   ##  Fill the data array with pixels one by one.\n",
    "   for i in range(rows):\n",
    "       for j in range(cols):\n",
    "           k = roi[i,j]\n",
    "           if k>100:\n",
    "               k=1\n",
    "           else:\n",
    "               k=0\n",
    "           X.append(k)\n",
    "            \n",
    "   predictions  =model.predict([X])\n",
    "   print(\"Prediction:\",predictions[0])\n",
    "   cv2.putText(im, \"Prediction is: \"+str(predictions[0]), (20,20), 0, 0.8,(0,255,0),2,cv2.LINE_AA)\n",
    "    \n",
    "   cv2.startWindowThread()\n",
    "   cv2.namedWindow(\"Result\")\n",
    "   cv2.imshow(\"Result\",im)\n",
    "   cv2.waitKey(10000)\n",
    "   if cv2.waitKey(1)==13: #27 is the ascii value of esc, 13 is the ascii value of enter\n",
    "       break\n",
    "cv2.destroyAllWindows()"
   ]
  },
  {
   "cell_type": "code",
   "execution_count": 28,
   "id": "4aa75949",
   "metadata": {},
   "outputs": [
    {
     "name": "stderr",
     "output_type": "stream",
     "text": [
      "C:\\Users\\sabar\\anaconda3\\Lib\\site-packages\\sklearn\\base.py:464: UserWarning: X does not have valid feature names, but SVC was fitted with feature names\n",
      "  warnings.warn(\n"
     ]
    },
    {
     "name": "stdout",
     "output_type": "stream",
     "text": [
      "Prediction: 3\n"
     ]
    },
    {
     "name": "stderr",
     "output_type": "stream",
     "text": [
      "C:\\Users\\sabar\\anaconda3\\Lib\\site-packages\\sklearn\\base.py:464: UserWarning: X does not have valid feature names, but SVC was fitted with feature names\n",
      "  warnings.warn(\n"
     ]
    },
    {
     "name": "stdout",
     "output_type": "stream",
     "text": [
      "Prediction: 3\n"
     ]
    },
    {
     "name": "stderr",
     "output_type": "stream",
     "text": [
      "C:\\Users\\sabar\\anaconda3\\Lib\\site-packages\\sklearn\\base.py:464: UserWarning: X does not have valid feature names, but SVC was fitted with feature names\n",
      "  warnings.warn(\n"
     ]
    },
    {
     "name": "stdout",
     "output_type": "stream",
     "text": [
      "Prediction: 3\n"
     ]
    },
    {
     "name": "stderr",
     "output_type": "stream",
     "text": [
      "C:\\Users\\sabar\\anaconda3\\Lib\\site-packages\\sklearn\\base.py:464: UserWarning: X does not have valid feature names, but SVC was fitted with feature names\n",
      "  warnings.warn(\n"
     ]
    },
    {
     "name": "stdout",
     "output_type": "stream",
     "text": [
      "Prediction: 2\n"
     ]
    },
    {
     "name": "stderr",
     "output_type": "stream",
     "text": [
      "C:\\Users\\sabar\\anaconda3\\Lib\\site-packages\\sklearn\\base.py:464: UserWarning: X does not have valid feature names, but SVC was fitted with feature names\n",
      "  warnings.warn(\n"
     ]
    },
    {
     "name": "stdout",
     "output_type": "stream",
     "text": [
      "Prediction: 1\n"
     ]
    },
    {
     "name": "stderr",
     "output_type": "stream",
     "text": [
      "C:\\Users\\sabar\\anaconda3\\Lib\\site-packages\\sklearn\\base.py:464: UserWarning: X does not have valid feature names, but SVC was fitted with feature names\n",
      "  warnings.warn(\n"
     ]
    },
    {
     "name": "stdout",
     "output_type": "stream",
     "text": [
      "Prediction: 1\n"
     ]
    },
    {
     "name": "stderr",
     "output_type": "stream",
     "text": [
      "C:\\Users\\sabar\\anaconda3\\Lib\\site-packages\\sklearn\\base.py:464: UserWarning: X does not have valid feature names, but SVC was fitted with feature names\n",
      "  warnings.warn(\n"
     ]
    },
    {
     "name": "stdout",
     "output_type": "stream",
     "text": [
      "Prediction: 1\n"
     ]
    },
    {
     "name": "stderr",
     "output_type": "stream",
     "text": [
      "C:\\Users\\sabar\\anaconda3\\Lib\\site-packages\\sklearn\\base.py:464: UserWarning: X does not have valid feature names, but SVC was fitted with feature names\n",
      "  warnings.warn(\n"
     ]
    },
    {
     "name": "stdout",
     "output_type": "stream",
     "text": [
      "Prediction: 4\n"
     ]
    },
    {
     "name": "stderr",
     "output_type": "stream",
     "text": [
      "C:\\Users\\sabar\\anaconda3\\Lib\\site-packages\\sklearn\\base.py:464: UserWarning: X does not have valid feature names, but SVC was fitted with feature names\n",
      "  warnings.warn(\n"
     ]
    },
    {
     "name": "stdout",
     "output_type": "stream",
     "text": [
      "Prediction: 4\n"
     ]
    },
    {
     "ename": "KeyboardInterrupt",
     "evalue": "",
     "output_type": "error",
     "traceback": [
      "\u001b[1;31m---------------------------------------------------------------------------\u001b[0m",
      "\u001b[1;31mKeyboardInterrupt\u001b[0m                         Traceback (most recent call last)",
      "Cell \u001b[1;32mIn[28], line 45\u001b[0m\n\u001b[0;32m     43\u001b[0m cv2\u001b[38;5;241m.\u001b[39mnamedWindow(\u001b[38;5;124m\"\u001b[39m\u001b[38;5;124mResult\u001b[39m\u001b[38;5;124m\"\u001b[39m)\n\u001b[0;32m     44\u001b[0m cv2\u001b[38;5;241m.\u001b[39mimshow(\u001b[38;5;124m\"\u001b[39m\u001b[38;5;124mResult\u001b[39m\u001b[38;5;124m\"\u001b[39m,im)\n\u001b[1;32m---> 45\u001b[0m cv2\u001b[38;5;241m.\u001b[39mwaitKey(\u001b[38;5;241m10000\u001b[39m)\n\u001b[0;32m     46\u001b[0m \u001b[38;5;28;01mif\u001b[39;00m cv2\u001b[38;5;241m.\u001b[39mwaitKey(\u001b[38;5;241m1\u001b[39m)\u001b[38;5;241m==\u001b[39m\u001b[38;5;241m13\u001b[39m: \u001b[38;5;66;03m#27 is the ascii value of esc, 13 is the ascii value of enter\u001b[39;00m\n\u001b[0;32m     47\u001b[0m     \u001b[38;5;28;01mbreak\u001b[39;00m\n",
      "\u001b[1;31mKeyboardInterrupt\u001b[0m: "
     ]
    }
   ],
   "source": [
    "#prediction of image drawn in paint\n",
    "  \n",
    "import joblib\n",
    "import cv2\n",
    "import numpy as np #pip install numpy\n",
    "import time\n",
    "import pyscreenshot as ImageGrab\n",
    "  \n",
    "model=joblib.load(\"model/digit_recognizer\")\n",
    "image_folder=\"img/\"\n",
    "  \n",
    "while True:\n",
    "   img=ImageGrab.grab(bbox=(60,170,400,500))\n",
    "    \n",
    "   img.save(images_folder+\"img.png\")\n",
    "   im = cv2.imread(images_folder+\"img.png\")\n",
    "   im_gray = cv2.cvtColor(im,cv2.COLOR_BGR2GRAY)\n",
    "   im_gray  =cv2.GaussianBlur(im_gray, (15,15), 0)\n",
    "    \n",
    "   #Threshold the image\n",
    "   ret, im_th = cv2.threshold(im_gray,100, 255, cv2.THRESH_BINARY)\n",
    "   roi = cv2.resize(im_th, (28,28), interpolation  =cv2.INTER_AREA)\n",
    "    \n",
    "   rows,cols=roi.shape\n",
    "    \n",
    "   X = []\n",
    "    \n",
    "   ##  Fill the data array with pixels one by one.\n",
    "   for i in range(rows):\n",
    "       for j in range(cols):\n",
    "           k = roi[i,j]\n",
    "           if k>100:\n",
    "               k=1\n",
    "           else:\n",
    "               k=0\n",
    "           X.append(k)\n",
    "            \n",
    "   predictions  =model.predict([X])\n",
    "   print(\"Prediction:\",predictions[0])\n",
    "   cv2.putText(im, \"Prediction is: \"+str(predictions[0]), (20,20), 0, 0.8,(0,255,0),2,cv2.LINE_AA)\n",
    "    \n",
    "   cv2.startWindowThread()\n",
    "   cv2.namedWindow(\"Result\")\n",
    "   cv2.imshow(\"Result\",im)\n",
    "   cv2.waitKey(10000)\n",
    "   if cv2.waitKey(1)==13: #27 is the ascii value of esc, 13 is the ascii value of enter\n",
    "       break\n",
    "cv2.destroyAllWindows()\n",
    "\n"
   ]
  },
  {
   "cell_type": "code",
   "execution_count": null,
   "id": "433c9d19",
   "metadata": {},
   "outputs": [],
   "source": []
  }
 ],
 "metadata": {
  "kernelspec": {
   "display_name": "Python 3 (ipykernel)",
   "language": "python",
   "name": "python3"
  },
  "language_info": {
   "codemirror_mode": {
    "name": "ipython",
    "version": 3
   },
   "file_extension": ".py",
   "mimetype": "text/x-python",
   "name": "python",
   "nbconvert_exporter": "python",
   "pygments_lexer": "ipython3",
   "version": "3.11.5"
  }
 },
 "nbformat": 4,
 "nbformat_minor": 5
}
